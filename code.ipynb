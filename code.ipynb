{
 "cells": [
  {
   "cell_type": "code",
   "execution_count": 1,
   "metadata": {},
   "outputs": [],
   "source": [
    "import pandas as pd\n",
    "import colorgram as cgm\n",
    "import csv\n",
    "import os\n",
    "from collections import Counter\n",
    "import collections\n",
    "import matplotlib.pyplot as plt\n",
    "import numpy as np"
   ]
  },
  {
   "cell_type": "code",
   "execution_count": 2,
   "metadata": {},
   "outputs": [],
   "source": [
    "K = 10 # number of nearest neightbours we are going to use"
   ]
  },
  {
   "cell_type": "code",
   "execution_count": 3,
   "metadata": {},
   "outputs": [],
   "source": [
    "index=[\"color\", \"color_name\", \"hex\", \"R\", \"G\", \"B\"]\n",
    "colors_base = pd.read_csv('colors.csv', names=index, header=None)"
   ]
  },
  {
   "cell_type": "code",
   "execution_count": 4,
   "metadata": {},
   "outputs": [],
   "source": [
    "fieldnames = ['image_name', 'color0', 'color1', 'color2', 'color3', \n",
    "              'color4', 'color5', 'color6', 'color7', 'color8', 'color9']"
   ]
  },
  {
   "cell_type": "code",
   "execution_count": 5,
   "metadata": {},
   "outputs": [],
   "source": [
    "image_colors = pd.read_csv('image_colors.csv', names=fieldnames, header=None)"
   ]
  },
  {
   "cell_type": "code",
   "execution_count": 6,
   "metadata": {},
   "outputs": [],
   "source": [
    "image_colors = image_colors.drop([0])"
   ]
  },
  {
   "cell_type": "code",
   "execution_count": 7,
   "metadata": {},
   "outputs": [],
   "source": [
    "image_colors = image_colors.set_index(\"image_name\")"
   ]
  },
  {
   "cell_type": "code",
   "execution_count": 8,
   "metadata": {},
   "outputs": [],
   "source": [
    "human_headers = [\"id\", \"title\", \"author\", \"type\", \"school\", \"timeframe\", \"description\", \"image_1_url\",\n",
    "                 \"image_2_url\",\"image_3_url\", \"image_4_url\", \"image_5_url\", \"image_6_url\", \"image_7_url\",\n",
    "                 \"image_8_url\", \"image_9_url\", \"image_10_url\", \"gt\"]\n",
    "name_date_headers = ['name', 'date']"
   ]
  },
  {
   "cell_type": "code",
   "execution_count": 9,
   "metadata": {},
   "outputs": [],
   "source": [
    "human_hard = pd.read_csv('SemArt/human_difficult.csv', names=human_headers, header=None)"
   ]
  },
  {
   "cell_type": "code",
   "execution_count": 10,
   "metadata": {},
   "outputs": [],
   "source": [
    "human_easy = pd.read_csv('SemArt/human_easy.csv', names=human_headers, header=None)"
   ]
  },
  {
   "cell_type": "code",
   "execution_count": 11,
   "metadata": {},
   "outputs": [],
   "source": [
    "human = pd.merge_ordered(human_hard, human_easy)"
   ]
  },
  {
   "cell_type": "code",
   "execution_count": 12,
   "metadata": {},
   "outputs": [],
   "source": [
    "name_date = pd.DataFrame(columns = name_date_headers)"
   ]
  },
  {
   "cell_type": "code",
   "execution_count": 13,
   "metadata": {},
   "outputs": [],
   "source": [
    "human = human.drop([200])"
   ]
  },
  {
   "cell_type": "code",
   "execution_count": 14,
   "metadata": {},
   "outputs": [],
   "source": [
    "for index, row in human.iterrows():\n",
    "    human_image = row['gt']\n",
    "    this_image = pd.DataFrame([[row['image_{}_url'.format(human_image)], row['timeframe']]], \n",
    "                              columns=name_date_headers)\n",
    "    name_date = pd.merge_ordered(name_date, this_image)"
   ]
  },
  {
   "cell_type": "code",
   "execution_count": 15,
   "metadata": {},
   "outputs": [],
   "source": [
    "name_date.to_csv(path_or_buf='name_date.csv')"
   ]
  },
  {
   "cell_type": "code",
   "execution_count": 16,
   "metadata": {},
   "outputs": [],
   "source": [
    "image_colors_reduced = pd.DataFrame(columns = fieldnames)"
   ]
  },
  {
   "cell_type": "code",
   "execution_count": 17,
   "metadata": {},
   "outputs": [],
   "source": [
    "for name in name_date['name']:\n",
    "    aux = pd.DataFrame([image_colors.loc[name]], columns = fieldnames[1:])\n",
    "    aux['image_name'] = name\n",
    "    image_colors_reduced = pd.merge_ordered(image_colors_reduced, aux)  "
   ]
  },
  {
   "cell_type": "code",
   "execution_count": 18,
   "metadata": {},
   "outputs": [],
   "source": [
    "name_date = name_date.set_index(\"name\")"
   ]
  },
  {
   "cell_type": "code",
   "execution_count": 19,
   "metadata": {},
   "outputs": [],
   "source": [
    "def recognize_color(R,G,B):\n",
    "    minimum = 10000\n",
    "    for i in range(len(colors_base)):\n",
    "        d = abs(R- int(colors_base.loc[i,\"R\"])) + abs(G- int(colors_base.loc[i,\"G\"]))+ abs(B- int(colors_base.loc[i,\"B\"]))\n",
    "        if(d<=minimum):\n",
    "            minimum = d\n",
    "            #cname = colors_base.loc[i,\"color_name\"]\n",
    "            chex = colors_base.loc[i, \"hex\"]\n",
    "    return chex"
   ]
  },
  {
   "cell_type": "code",
   "execution_count": 20,
   "metadata": {},
   "outputs": [],
   "source": [
    "test_image_directory = \"painting/\"\n",
    "test_image_name = \"2333.jpg\"\n",
    "test_image = test_image_directory+test_image_name"
   ]
  },
  {
   "cell_type": "code",
   "execution_count": 21,
   "metadata": {},
   "outputs": [],
   "source": [
    "test_colors = cgm.extract(test_image, 10)\n",
    "test_chexes = []\n",
    "for color in test_colors:\n",
    "    test_chex = recognize_color(color.rgb[0], color.rgb[1], color.rgb[2])\n",
    "    test_chexes.append(test_chex)"
   ]
  },
  {
   "cell_type": "code",
   "execution_count": 22,
   "metadata": {},
   "outputs": [
    {
     "name": "stderr",
     "output_type": "stream",
     "text": [
      "/home/vieiragiulia/anaconda3/lib/python3.7/site-packages/ipykernel_launcher.py:14: SettingWithCopyWarning: \n",
      "A value is trying to be set on a copy of a slice from a DataFrame\n",
      "\n",
      "See the caveats in the documentation: http://pandas.pydata.org/pandas-docs/stable/indexing.html#indexing-view-versus-copy\n",
      "  \n"
     ]
    }
   ],
   "source": [
    "columns = ['color0', 'color1', 'color2', 'color3', 'color4', 'color5', 'color6', 'color7', 'color8', 'color9']\n",
    "matches = pd.DataFrame(columns = ['name', 'score'])\n",
    "for index, row in image_colors_reduced.iterrows():\n",
    "    first = True\n",
    "    for column in columns:\n",
    "        if row[column] in test_chexes:\n",
    "            if first == True:\n",
    "                this_image = pd.DataFrame([[row['image_name'], 1]], columns=['name', 'score'])\n",
    "                matches = pd.merge_ordered(matches, this_image)\n",
    "                first = False\n",
    "            else:\n",
    "                for i in range (0, len(matches['name'])):\n",
    "                    if matches['name'][i] == row['image_name']:\n",
    "                        matches['score'][i] += 1\n",
    "                        break"
   ]
  },
  {
   "cell_type": "code",
   "execution_count": 23,
   "metadata": {},
   "outputs": [],
   "source": [
    "matches = matches.sort_values(by=['score'], ascending=False)"
   ]
  },
  {
   "cell_type": "code",
   "execution_count": 24,
   "metadata": {},
   "outputs": [],
   "source": [
    "nearest = matches.head(K)"
   ]
  },
  {
   "cell_type": "code",
   "execution_count": 25,
   "metadata": {},
   "outputs": [],
   "source": [
    "nearest = nearest.set_index(\"name\")"
   ]
  },
  {
   "cell_type": "code",
   "execution_count": 26,
   "metadata": {},
   "outputs": [],
   "source": [
    "nearest_dates = {}\n",
    "for name, value in nearest.iterrows():\n",
    "    if int(name_date.loc[name][\"date\"][:4]) not in nearest_dates:\n",
    "        nearest_dates[int(name_date.loc[name][\"date\"][:4])] = nearest.loc[name][\"score\"]\n",
    "    else:\n",
    "        nearest_dates[int(name_date.loc[name][\"date\"][:4])] += nearest.loc[name][\"score\"]\n",
    "    if int(name_date.loc[name][\"date\"][5:]) not in nearest_dates:\n",
    "        nearest_dates[int(name_date.loc[name][\"date\"][5:])] =  nearest.loc[name][\"score\"]\n",
    "    else:\n",
    "        nearest_dates[int(name_date.loc[name][\"date\"][5:])] +=  nearest.loc[name][\"score\"]"
   ]
  },
  {
   "cell_type": "code",
   "execution_count": 27,
   "metadata": {},
   "outputs": [],
   "source": [
    "distribution = Counter(nearest_dates)"
   ]
  },
  {
   "cell_type": "code",
   "execution_count": 28,
   "metadata": {},
   "outputs": [],
   "source": [
    "distribution = {k: v for k, v in sorted(distribution.items(), key=lambda item: item[1], reverse=True)}"
   ]
  },
  {
   "cell_type": "code",
   "execution_count": 29,
   "metadata": {},
   "outputs": [],
   "source": [
    "ordered_distribution = collections.OrderedDict(sorted(distribution.items()))"
   ]
  },
  {
   "cell_type": "code",
   "execution_count": 35,
   "metadata": {},
   "outputs": [],
   "source": [
    "bars = list(ordered_distribution.values())"
   ]
  },
  {
   "cell_type": "code",
   "execution_count": 39,
   "metadata": {},
   "outputs": [
    {
     "data": {
      "image/png": "[encoded data removed]",
      "text/plain": [
       "<Figure size 432x288 with 1 Axes>"
      ]
     },
     "metadata": {
      "needs_background": "light"
     },
     "output_type": "display_data"
    }
   ],
   "source": [
    "plt.bar(np.arange(len(bars)), bars, color='mediumseagreen')\n",
    "plt.xticks(np.arange(len(bars)), list(ordered_distribution.keys()), rotation=90)\n",
    "plt.xlabel(\"Time periods\")\n",
    "plt.ylabel(\"Number of colors correlated per image x \\n number of images from that period\")\n",
    "plt.title(\"Distribution of color correlation per time period for image '{}'\".format(test_image))\n",
    "plt.savefig('TimeCorrelationDistribution_{}'.format(test_image_name), bbox_inches='tight', transparent=True)\n",
    "plt.show()\n",
    "plt.close()"
   ]
  },
  {
   "cell_type": "markdown",
   "metadata": {},
   "source": [
    "#### Operation used to create image_colors.csv"
   ]
  },
  {
   "cell_type": "code",
   "execution_count": null,
   "metadata": {},
   "outputs": [],
   "source": [
    "with open('image_colors.csv', 'w', newline='') as csvfile:\n",
    "    writer = csv.DictWriter(csvfile, fieldnames=fieldnames)\n",
    "    writer.writeheader()\n",
    "    directory = 'SemArt/Images/'\n",
    "    for filename in os.listdir(directory):\n",
    "        if filename in image_colors[\"image_name\"]:\n",
    "            continue\n",
    "        colors = cgm.extract(directory+filename, 10)\n",
    "        chexes = []\n",
    "        for color in colors:\n",
    "            chex = recognize_color(color.rgb[0], color.rgb[1], color.rgb[2])\n",
    "            chexes.append(chex)\n",
    "        if len(chexes) == 10:\n",
    "            writer.writerow({'image_name': filename, 'color0': chexes[0], 'color1': chexes[1], 'color2': chexes[2],\n",
    "                            'color3': chexes[3], 'color4': chexes[4], 'color5': chexes[5], 'color6': chexes[6],\n",
    "                            'color7': chexes[7], 'color8': chexes[8], 'color9': chexes[9]})"
   ]
  }
 ],
 "metadata": {
  "kernelspec": {
   "display_name": "Python 3",
   "language": "python",
   "name": "python3"
  },
  "language_info": {
   "codemirror_mode": {
    "name": "ipython",
    "version": 3
   },
   "file_extension": ".py",
   "mimetype": "text/x-python",
   "name": "python",
   "nbconvert_exporter": "python",
   "pygments_lexer": "ipython3",
   "version": "3.7.3"
  }
 },
 "nbformat": 4,
 "nbformat_minor": 2
}
